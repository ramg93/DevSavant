{
 "cells": [
  {
   "cell_type": "markdown",
   "id": "7b324052",
   "metadata": {},
   "source": [
    "# Python Exercise\n",
    "\n",
    "## Read a database from a JSON file containing players' info. These information is Name, Lastname, height in meters and height in inches. \n",
    "## Write a function with a target height (integer) as an input that will find the pair(s) of players whose summed heights in inches matches the given target height. \n",
    "\n",
    "## Try it on you own. I share my solution in the next cells. \n",
    "\n",
    "## Running the following cell will generate a ```app.py``` file which can be executed from console by running ```python app.py``` once the workdirectory is placed where the file is and the evironment ```DevSavant``` is set and active. \n",
    "\n",
    "## Otherwire, if you mean to run the code inside this jupyter notebook, just comment the first line: ```%%writefile app.py```"
   ]
  },
  {
   "cell_type": "code",
   "execution_count": 1,
   "id": "97971896",
   "metadata": {},
   "outputs": [
    {
     "name": "stdout",
     "output_type": "stream",
     "text": [
      "Overwriting app.py\n"
     ]
    }
   ],
   "source": [
    "%%writefile app.py\n",
    "\n",
    "import numpy as np\n",
    "import json\n",
    "\n",
    "def app(target_height):\n",
    "    '''\n",
    "        app function: load and tranform a JSON file with players full name\n",
    "        and height in, both, inches and meters; and find which pairs of players'\n",
    "        heights' sum matches a target height. \n",
    "        \n",
    "        ex. \n",
    "            app(139) \n",
    "            >> [('Brevin Knight', 'Nate Robinson'), ('Nate Robinson', 'Mike Wilks')]\n",
    "        \n",
    "        input -> target_height: Int\n",
    "        output -> players: List of Tuples\n",
    "    '''\n",
    "# Data loading and transformation\n",
    "    file = \"playerlist.json\"\n",
    "    data = json.load(open(file))\n",
    "    values = data['values']\n",
    "    \n",
    "# Data Transformation\n",
    "    full_names = [' '.join([dict_['first_name'], dict_['last_name']]) for dict_ in values]\n",
    "    heights_in = [int(dict_['h_in']) for dict_ in values]\n",
    "    \n",
    "# Create triangular matrix with all possible sums of pair of heights: Original\n",
    "    mtx_heights = np.array(np.zeros((len(heights_in), len(heights_in))))\n",
    "    for i, h in enumerate(heights_in):\n",
    "        for j, h_ in enumerate(heights_in):\n",
    "            mtx_heights[i,j] = h + h_\n",
    "\n",
    "    mtx_heights = np.triu(mtx_heights)\n",
    "    \n",
    "# # Create triangular matrix with all possible sums of pairs of heights: refactored \n",
    "# #  ************************ in progress; faster but not properly structured\n",
    "#     mtx_heights = []\n",
    "#     for i in range(len(heights_in)):\n",
    "#         n_h = heights_in[i:] + heights_in[:i]\n",
    "#         mtx_heights.append(np.add(heights_in, n_h))\n",
    "#     mtx_heights = np.array(mtx_heights)\n",
    "    \n",
    "# delete data and values to release some memory space\n",
    "    del data\n",
    "    del values\n",
    "    \n",
    "# find indeces where the target height is met\n",
    "# comprise the pairs of players in tuples inside a list\n",
    "    indeces = np.argwhere(mtx_heights == target_height)\n",
    "    players = [(full_names[i], full_names[i_]) for i, i_ in indeces if i != i_]\n",
    "    \n",
    "    if players: return players\n",
    "    else: return [\"No matches\"]\n",
    "\n",
    "if __name__ == \"__main__\":\n",
    "    target_height = 139 # default value, Change here for another target height\n",
    "    [print(pair) for pair in app(target_height)] # print results \n",
    "    \n",
    "    "
   ]
  },
  {
   "cell_type": "code",
   "execution_count": null,
   "id": "17d78d88",
   "metadata": {},
   "outputs": [],
   "source": []
  },
  {
   "cell_type": "code",
   "execution_count": null,
   "id": "a3b39ddb",
   "metadata": {},
   "outputs": [],
   "source": []
  },
  {
   "cell_type": "code",
   "execution_count": null,
   "id": "c0150ab2",
   "metadata": {},
   "outputs": [],
   "source": []
  }
 ],
 "metadata": {
  "kernelspec": {
   "display_name": "Python 3 (ipykernel)",
   "language": "python",
   "name": "python3"
  },
  "language_info": {
   "codemirror_mode": {
    "name": "ipython",
    "version": 3
   },
   "file_extension": ".py",
   "mimetype": "text/x-python",
   "name": "python",
   "nbconvert_exporter": "python",
   "pygments_lexer": "ipython3",
   "version": "3.9.12"
  }
 },
 "nbformat": 4,
 "nbformat_minor": 5
}
